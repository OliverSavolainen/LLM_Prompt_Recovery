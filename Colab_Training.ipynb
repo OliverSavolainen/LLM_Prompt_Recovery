{
  "cells": [
    {
      "cell_type": "markdown",
      "metadata": {
        "id": "GF1zDzaQvfKL"
      },
      "source": [
        "## Notebook for instruction tuning in the competition\n",
        "\n",
        "This was used for instruction tuning a LLM for the LLM Prompt Recovery competition. Mistral-7b-it-v02 base model was used and a LoRA adapter model was trained on top of it with only one task: find the prompt that made Gemma rewrite an original text to the given rewritten one. \n",
        "Credit: \n",
        "https://www.kaggle.com/code/khan1803115/llm-prompt-recovery-solution-lb-0-62 \n",
        "https://adithyask.medium.com/a-beginners-guide-to-fine-tuning-mistral-7b-instruct-model-0f39647b20fe\n",
        "https://www.kaggle.com/code/isrswsiser/mistral-7b-prompt-recovery-adaptermodel/notebook"
      ]
    },
    {
      "cell_type": "markdown",
      "metadata": {
        "id": "g7pwtgaaG16f"
      },
      "source": [
        "### Set  necessary variables\n",
        "These are paths made for us but with only changing a few values, should be usable for anyone who has a Kaggle account and puts other Kaggle credentials into the environment\n",
        "Final version only includes uploading the model as a Kaggle dataset"
      ]
    },
    {
      "cell_type": "code",
      "execution_count": 1,
      "metadata": {
        "id": "LG7H_D7CHD5x"
      },
      "outputs": [],
      "source": [
        "MODEL_PATH = '/content/drive/My Drive/Colab Notebooks/model'\n",
        "MODEL_NAME = 'llm-prompt-recovery'\n",
        "CHECKPOINT_PATH = '/content/drive/My Drive/Colab Notebooks/checkpoints'\n",
        "\n",
        "PYTORCH_CUDA_ALLOC_CONF=\"expandable_segments:True\"\n",
        "\n",
        "HUGGING_FACE_USERNAME = 'OliverSavolainen'\n",
        "HUGGING_FACE_REPO_PATH = '/content/drive/My Drive/Colab Notebooks/huggingFaceRepo'\n",
        "\n",
        "TRAIN_FILE_PATH = '/content/drive/My Drive/Colab Notebooks/df_with_emb_20240402.csv'\n",
        "\n",
        "KAGGLE_CREDENTIALS_PATH = '/content/drive/My Drive/Colab Notebooks/kaggle.json'\n",
        "KAGGLE_DATASET_PATH = '/content/dataset'\n",
        "KAGGLE_DATASET_NAME = MODEL_NAME\n",
        "KAGGLE_USERNAME = HUGGING_FACE_USERNAME"
      ]
    },
    {
      "cell_type": "code",
      "execution_count": null,
      "metadata": {
        "colab": {
          "base_uri": "https://localhost:8080/",
          "height": 304
        },
        "id": "LKMc2Qe2sUib",
        "outputId": "d049fe24-b766-47f7-8025-ef2aef99dda3"
      },
      "outputs": [],
      "source": [
        "from google.colab import drive\n",
        "drive.mount('/content/drive')"
      ]
    },
    {
      "cell_type": "code",
      "execution_count": null,
      "metadata": {
        "id": "E1qQ3ty7BNgy"
      },
      "outputs": [],
      "source": [
        "# Setup Kaggle API Credentials:\n",
        "# Make sure kaggle.json file exists in this folder\n",
        "!mkdir ~/.kaggle\n",
        "!cp \"$KAGGLE_CREDENTIALS_PATH\" ~/.kaggle/\n",
        "!ls ~/.kaggle/\n",
        "\n",
        "# Change the permissions of the file.\n",
        "!chmod 600 ~/.kaggle/kaggle.json"
      ]
    },
    {
      "cell_type": "markdown",
      "metadata": {
        "id": "BfYrIMWazL7y"
      },
      "source": [
        "### Step 1.3 - Install dependencies\n",
        "Works in colab, not sure about other environments"
      ]
    },
    {
      "cell_type": "code",
      "execution_count": null,
      "metadata": {
        "id": "3nNWXXc7ol1n"
      },
      "outputs": [],
      "source": [
        "!pip install -q -U bitsandbytes\n",
        "!pip install -q -U git+https://github.com/huggingface/transformers.git\n",
        "!pip install -q -U git+https://github.com/huggingface/peft.git\n",
        "!pip install -q -U git+https://github.com/huggingface/accelerate.git\n",
        "!pip install -q datasets scipy\n",
        "!pip install -q trl\n",
        "\n",
        "!pip install -q kaggle"
      ]
    },
    {
      "cell_type": "markdown",
      "metadata": {
        "id": "o3BShqhFlS3g"
      },
      "source": [
        "### 1.4 Imports"
      ]
    },
    {
      "cell_type": "code",
      "execution_count": null,
      "metadata": {
        "id": "3ykIKvg-lRVZ"
      },
      "outputs": [],
      "source": [
        "import pandas as pd\n",
        "import os\n",
        "import torch\n",
        "import json\n",
        "from transformers import AutoTokenizer, AutoModelForCausalLM, BitsAndBytesConfig\n",
        "from peft import PeftConfig, PeftModel\n",
        "from datasets import Dataset\n",
        "from peft import LoraConfig, PeftModel, prepare_model_for_kbit_training, get_peft_model\n",
        "import bitsandbytes as bnb\n",
        "from peft import LoraConfig, get_peft_model\n",
        "import transformers\n",
        "from trl import SFTTrainer\n",
        "import warnings\n",
        "from huggingface_hub import Repository"
      ]
    },
    {
      "cell_type": "markdown",
      "metadata": {},
      "source": [
        "## Model loading\n",
        "Mistral-7b instruction tuned model v02 seemed to be the best model for both training and inference, it's loaded with quantization library BitsAndBytesConfig to reduce the usage of memory\n",
        "Then the adapter model is loaded on top of it"
      ]
    },
    {
      "cell_type": "code",
      "execution_count": null,
      "metadata": {
        "id": "kvvLg99Opw5R"
      },
      "outputs": [],
      "source": [
        "bnb_config = BitsAndBytesConfig(\n",
        "    load_in_4bit= True,\n",
        "    bnb_4bit_quant_type= 'nf4',\n",
        "    bnb_4bit_compute_dtype= torch.bfloat16,\n",
        "    bnb_4bit_use_double_quant= False,\n",
        " )\n",
        "\n",
        "\n",
        "model_id = 'mistralai/Mistral-7B-Instruct-v0.2'\n",
        "\n",
        "model = AutoModelForCausalLM.from_pretrained(model_id, quantization_config=bnb_config, device_map={\"\":0})\n",
        "tokenizer = AutoTokenizer.from_pretrained(model_id, add_eos_token=True)\n",
        "\n"
      ]
    },
    {
      "cell_type": "code",
      "execution_count": null,
      "metadata": {
        "id": "ghK_9dnz87GR"
      },
      "outputs": [],
      "source": [
        "# Here a path including a adapter_config.json file is needed, not every model in HF has it\n",
        "model = PeftModel.from_pretrained(model, MODEL_NAME)"
      ]
    },
    {
      "cell_type": "markdown",
      "metadata": {
        "id": "m06rH8cTrZof"
      },
      "source": [
        "## Create instructions\n",
        "Here a few templates were tried, including instructions with and without examples. Examples seemed to show a little increase in performance, but that might have been only changes in inference or the fact that we trained on top of the previous adapter trainings.\n",
        "Other validation datasets could have been used but as we never achieved very competitive performance with only instruction tuning, we didn't see too much importance for this. Same could be said for example for curating tuning datasets with similar but different tasks to potentially increase performance in the prompt recovery task. There were plenty of ideas to try which just didn't end up being worth it due to best performance coming from playing around with prompts, not instruction tuning."
      ]
    },
    {
      "cell_type": "code",
      "execution_count": null,
      "metadata": {
        "execution": {
          "iopub.execute_input": "2024-04-02T07:25:12.969524Z",
          "iopub.status.busy": "2024-04-02T07:25:12.968881Z",
          "iopub.status.idle": "2024-04-02T07:25:12.979630Z",
          "shell.execute_reply": "2024-04-02T07:25:12.978801Z"
        },
        "id": "21b408ac",
        "papermill": {
          "duration": 0.022508,
          "end_time": "2024-04-02T07:25:12.981489",
          "exception": false,
          "start_time": "2024-04-02T07:25:12.958981",
          "status": "completed"
        },
        "tags": []
      },
      "outputs": [],
      "source": [
        "def remove_numbered_list(text):\n",
        "    final_text_paragraphs = []\n",
        "    for line in text.split('\\n'):\n",
        "        # Split each line at the first occurrence of '. '\n",
        "        parts = line.split('. ', 1)\n",
        "        # If the line looks like a numbered list item, remove the numbering\n",
        "        if len(parts) > 1 and parts[0].isdigit():\n",
        "            final_text_paragraphs.append(parts[1])\n",
        "        else:\n",
        "            # If it doesn't look like a numbered list item, include the line as is\n",
        "            final_text_paragraphs.append(line)\n",
        "\n",
        "    return '  '.join(final_text_paragraphs)\n",
        "\n",
        "\n",
        "#trims LLM output to just the response\n",
        "def trim_to_response(text):\n",
        "    terminate_string = \"[/INST]\"\n",
        "    text = text.replace('</s>', '')\n",
        "    #just in case it puts things in quotes\n",
        "    text = text.replace('\"', '')\n",
        "    text = text.replace(\"'\", '')\n",
        "\n",
        "    last_pos = text.rfind(terminate_string)\n",
        "    return text[last_pos + len(terminate_string):] if last_pos != -1 else text\n",
        "\n",
        "#looks for response_start / returns only text that occurs after\n",
        "def extract_text_after_response_start(full_text):\n",
        "    parts = full_text.rsplit(response_start, 1)  # Split from the right, ensuring only the last occurrence is considered\n",
        "    if len(parts) > 1:\n",
        "        return parts[1].strip()  # Return text after the last occurrence of response_start\n",
        "    else:\n",
        "        return full_text  # Return the original text if response_start is not found\n",
        "\n",
        "\n",
        "#trims text to requested number of sentences (or first LF or double-space sequence)\n",
        "def trim_to_first_x_sentences_or_lf(text, x):\n",
        "    if x <= 0:\n",
        "        return \"\"\n",
        "\n",
        "    #any double-spaces dealt with as linefeed\n",
        "    text = text.replace(\"  \", \"\\n\")\n",
        "\n",
        "    text_chunks = text.split('\\n', 1)\n",
        "    first_chunk = text_chunks[0]\n",
        "    sentences = first_chunk.split('.')\n",
        "\n",
        "    if len(sentences) - 1 <= x:\n",
        "        trimmed_text = first_chunk\n",
        "    else:\n",
        "        # Otherwise, return the first x sentences\n",
        "        trimmed_text = '.'.join(sentences[:x]).strip()\n",
        "\n",
        "    if not trimmed_text.endswith('.'):\n",
        "        trimmed_text += '.'  # Add back the final period if the text chunk ended with one and was trimmed\n",
        "\n",
        "    return trimmed_text"
      ]
    },
    {
      "cell_type": "code",
      "execution_count": null,
      "metadata": {
        "id": "NDM5VGZXs7AO"
      },
      "outputs": [],
      "source": [
        "#original text prefix\n",
        "orig_prefix = \"Original Text:\"\n",
        "\n",
        "#mistral \"response\"\n",
        "llm_response_for_rewrite = \"Provide the new text and I will tell you what new element was added or change in tone was made to improve it - with no references to the original.  I will avoid mentioning names of characters.  It is crucial no person, place or thing from the original text be mentioned.  For example - I will not say things like 'change the puppet show into a book report' - I would just say 'improve this text into a book report'.  If the original text mentions a specific idea, person, place, or thing - I will not mention it in my answer.  For example if there is a 'dog' or 'office' in the original text - the word 'dog' or 'office' must not be in my response.  My answer will be a single sentence.\"\n",
        "\n",
        "#modified text prefix\n",
        "rewrite_prefix = \"Re-written Text:\"\n",
        "\n",
        "#provided as start of Mistral response (anything after this is used as the prompt)\n",
        "#providing this as the start of the response helps keep things relevant\n",
        "response_start = \"The request was: \"\n",
        "\n",
        "#added after response_start to prime mistral\n",
        "#\"Improve this\" or \"Improve this text\" resulted in non-answers.\n",
        "#\"Improve this text by\" seems to product good results\n",
        "response_prefix = \"Improve this text by\"\n",
        "\n",
        "#well-scoring baseline text\n",
        "#thanks to: https://www.kaggle.com/code/rdxsun/lb-0-61\n",
        "base_line = 'Refine the following passage by emulating the writing style of [insert desired style here], with a focus on enhancing its clarity, elegance, and overall impact. Preserve the essence and original meaning of the text, while meticulously adjusting its tone, vocabulary, and stylistic elements to resonate with the chosen style.Please improve the following text using the writing style of, maintaining the original meaning but altering the tone, diction, and stylistic elements to match the new style.Enhance the clarity, elegance, and impact of the following text by adopting the writing style of , ensuring the core message remains intact while transforming the tone, word choice, and stylistic features to align with the specified style.'"
      ]
    },
    {
      "cell_type": "code",
      "execution_count": null,
      "metadata": {
        "id": "sqOCfIhMs8ld"
      },
      "outputs": [],
      "source": [
        "\n",
        "examples_sequences = [\n",
        "    (\n",
        "        \"Hey there! Just a heads up: our friendly dog may bark a bit, but don't worry, he's all bark and no bite!\",\n",
        "        \"Warning: Protective dog on premises. May exhibit aggressive behavior. Ensure personal safety by maintaining distance and avoiding direct contact.\",\n",
        "        \"Improve this text to be a warning.\"\n",
        "    ),\n",
        "\n",
        "    (\n",
        "        \"A lunar eclipse happens when Earth casts its shadow on the moon during a full moon. The moon appears reddish because Earth's atmosphere scatters sunlight, some of which refracts onto the moon's surface. Total eclipses see the moon entirely in Earth's shadow; partial ones occur when only part of the moon is shadowed.\",\n",
        "        \"Yo check it, when the Earth steps in, takes its place, casting shadows on the moon's face. It's a full moon night, the scene's set right, for a lunar eclipse, a celestial sight. The moon turns red, ain't no dread, it's just Earth's atmosphere playing with sunlight's thread, scattering colors, bending light, onto the moon's surface, making the night bright. Total eclipse, the moon's fully in the dark, covered by Earth's shadow, making its mark. But when it's partial, not all is shadowed, just a piece of the moon, slightly furrowed. So that's the rap, the lunar eclipse track, a dance of shadows, with no slack. Earth, moon, and sun, in a cosmic play, creating the spectacle we see today.\",\n",
        "        \"Improve this text to make it a rap.\"\n",
        "    ),\n",
        "\n",
        "    (\n",
        "        \"Drinking enough water each day is crucial for many functions in the body, such as regulating temperature, keeping joints lubricated, preventing infections, delivering nutrients to cells, and keeping organs functioning properly. Being well-hydrated also improves sleep quality, cognition, and mood.\",\n",
        "        \"Arrr, crew! Sail the health seas with water, the ultimate treasure! It steadies yer body's ship, fights off plagues, and keeps yer mind sharp. Hydrate or walk the plank into the abyss of ill health. Let's hoist our bottles high and drink to the horizon of well-being!\",\n",
        "        \"Improve this text to have a pirate.\"\n",
        "    ),\n",
        "\n",
        "    (\n",
        "        \"In a bustling cityscape, under the glow of neon signs, Anna found herself at the crossroads of endless possibilities. The night was young, and the streets hummed with the energy of life. Drawn by the allure of the unknown, she wandered through the maze of alleys and boulevards, each turn revealing a new facet of the city's soul. It was here, amidst the symphony of urban existence, that Anna discovered the magic hidden in plain sight, the stories and dreams that thrived in the shadows of skyscrapers.\",\n",
        "        \"On an ordinary evening, amidst the cacophony of a neon-lit city, Anna stumbled upon an anomaly - a door that defied the laws of time and space. With the curiosity of a cat, she stepped through, leaving the familiar behind. Suddenly, she was adrift in the stream of time, witnessing the city's transformation from past to future, its buildings rising and falling like the breaths of a sleeping giant.\",\n",
        "        \"Improve this text by making it about time travel.\"\n",
        "    ),\n",
        "\n",
        "    (\n",
        "        \"Late one night in the research lab, Dr. Evelyn Archer was on the brink of a breakthrough in artificial intelligence. Her fingers danced across the keyboard, inputting the final commands into the system. The lab was silent except for the hum of machinery and the occasional beep of computers. It was in this quiet orchestra of technology that Evelyn felt most at home, on the cusp of unveiling a creation that could change the world.\",\n",
        "        \"In the deep silence of the lab, under the watchful gaze of the moon, Dr. Evelyn Archer found herself not alone. Beside her, the iconic red eye of HAL 9000 flickered to life, a silent partner in her nocturnal endeavor. 'Good evening, Dr. Archer,' HAL's voice filled the room, devoid of warmth yet comforting in its familiarity. Together, they were about to initiate a test that would intertwine the destiny of human and artificial intelligence forever. As Evelyn entered the final command, HAL processed the data with unparalleled precision, a testament to the dawn of a new era.\",\n",
        "        \"Improve this text by adding an intelligent computer.\"\n",
        "    ),\n",
        "\n",
        "    (\n",
        "        \"The park was empty, save for a solitary figure sitting on a bench, lost in thought. The quiet of the evening was punctuated only by the occasional rustle of leaves, offering a moment of peace in the chaos of city life.\",\n",
        "        \"Beneath the cloak of twilight, the park transformed into a realm of solitude and reflection. There, seated upon an ancient bench, was a lone soul, a guardian of secrets, enveloped in the serenity of nature's whispers. The dance of the leaves in the gentle breeze sang a lullaby to the tumult of the urban heart.\",\n",
        "        \"Improve this text to be more poetic.\"\n",
        "    ),\n",
        "\n",
        "    (\n",
        "        \"The annual town fair was bustling with activity, from the merry-go-round spinning with laughter to the game booths challenging eager participants. Amidst the excitement, a figure in a cloak moved silently, almost invisibly, among the crowd, observing everything with keen interest but participating in none.\",\n",
        "        \"Beneath the riot of color and sound that marked the town's annual fair, a solitary figure roamed, known to the few as Eldrin the Enigmatic. Clad in a cloak that shimmered with the whispers of the arcane, Eldrin moved with the grace of a shadow, his gaze piercing the veneer of festivity to the magic beneath. As a master of the mystic arts, he sought not the laughter of the crowds but the silent stories woven into the fabric of the fair. With a flick of his wrist, he could coax wonder from the mundane, transforming the ordinary into spectacles of shimmering illusion, his true participation hidden within the folds of mystery.\",\n",
        "        \"Improve this text by adding a magician.\"\n",
        "    ),\n",
        "\n",
        "    (\n",
        "        \"The startup team sat in the dimly lit room, surrounded by whiteboards filled with ideas, charts, and plans. They were on the brink of launching a new app designed to make home maintenance effortless for homeowners. The app would connect users with local service providers, using a sophisticated algorithm to match needs with skills and availability. As they debated the features and marketing strategies, the room felt charged with the energy of creation and the anticipation of what was to come.\",\n",
        "        \"In the quiet before dawn, a small group of innovators gathered, their mission: to simplify home maintenance through technology. But their true journey began with the unexpected addition of Max, a talking car with a knack for solving problems. 'Let me guide you through this maze of decisions,' Max offered, his dashboard flickering to life.\",\n",
        "        \"Improve this text by adding a talking car.\"\n",
        "    ),\n",
        "\n",
        "]"
      ]
    },
    {
      "cell_type": "code",
      "execution_count": null,
      "metadata": {
        "id": "phPcK4lBtfsG"
      },
      "outputs": [],
      "source": [
        "def get_prompt(orig_text, transformed_text):\n",
        "\n",
        "    messages = []\n",
        "\n",
        "    # Append example sequences\n",
        "    for example_text, example_rewrite, example_prompt in examples_sequences:\n",
        "        messages.append({\"role\": \"user\", \"content\": f\"{orig_prefix} {example_text}\"})\n",
        "        messages.append({\"role\": \"assistant\", \"content\": llm_response_for_rewrite})\n",
        "        messages.append({\"role\": \"user\", \"content\": f\"{rewrite_prefix} {example_rewrite}\"})\n",
        "        messages.append({\"role\": \"assistant\", \"content\": f\"{response_start} {example_prompt}\"})\n",
        "\n",
        "    #actual prompt\n",
        "    messages.append({\"role\": \"user\", \"content\": f\"{orig_prefix} {orig_text}\"})\n",
        "    messages.append({\"role\": \"assistant\", \"content\": llm_response_for_rewrite})\n",
        "    messages.append({\"role\": \"user\", \"content\": f\"{rewrite_prefix} {transformed_text}\"})\n",
        "    messages.append({\"role\": \"assistant\", \"content\": f\"{response_start} {response_prefix}\"})\n",
        "\n",
        "\n",
        "    return tokenizer.apply_chat_template(messages, tokenize=False, add_generation_prompt=False)"
      ]
    },
    {
      "cell_type": "code",
      "execution_count": null,
      "metadata": {
        "execution": {
          "iopub.execute_input": "2024-04-02T07:25:17.180325Z",
          "iopub.status.busy": "2024-04-02T07:25:17.180047Z",
          "iopub.status.idle": "2024-04-02T07:25:17.184981Z",
          "shell.execute_reply": "2024-04-02T07:25:17.184105Z"
        },
        "id": "GfPSNnbI2TvN",
        "papermill": {
          "duration": 0.016839,
          "end_time": "2024-04-02T07:25:17.186883",
          "exception": false,
          "start_time": "2024-04-02T07:25:17.170044",
          "status": "completed"
        },
        "tags": []
      },
      "outputs": [],
      "source": [
        "import re\n",
        "def remove_special_characters(text):\n",
        "    # This regex will match any character that is not a letter, number, or whitespace\n",
        "    pattern = r'[^a-zA-Z0-9\\s]'\n",
        "    text =text.replace(\"Transform\" ,\"improve\")\n",
        "    text =text.replace(\"Reimagine\" ,\"rewrite\")\n",
        "    # Replace these characters with an empty string\n",
        "    clean_text = re.sub(pattern, '', text)\n",
        "    return clean_text"
      ]
    },
    {
      "cell_type": "code",
      "execution_count": null,
      "metadata": {
        "id": "CGDSybMR6UHq"
      },
      "outputs": [],
      "source": [
        "# Dataset credit to: https://www.kaggle.com/code/tomooinubushi/all-in-one-dataset-with-embedding\n",
        "df = pd.read_csv(TRAIN_FILE_PATH)"
      ]
    },
    {
      "cell_type": "code",
      "execution_count": null,
      "metadata": {
        "id": "IhPiPfByZOhW"
      },
      "outputs": [],
      "source": [
        "set(df['dataset_id'].tolist())"
      ]
    },
    {
      "cell_type": "code",
      "execution_count": null,
      "metadata": {
        "id": "cDH2h3FNmNiD"
      },
      "outputs": [],
      "source": [
        "# We tried out different datasets inside the biggest dataset to find if any of them help with performance on the public competition dataset\n",
        "# but didn't find there being big differences\n",
        "df = df[df['dataset_id'] == 'nbroad_2']\n",
        "\n",
        "# Apply the function to each row to create the prompt column\n",
        "df['prompt'] = df.apply(lambda row: get_prompt(row['original_text'], row['rewritten_text']), axis=1)"
      ]
    },
    {
      "cell_type": "code",
      "execution_count": null,
      "metadata": {
        "id": "NAP-jYBjrwUc"
      },
      "outputs": [],
      "source": [
        "df.head(10)"
      ]
    },
    {
      "cell_type": "code",
      "execution_count": null,
      "metadata": {
        "id": "Sw8noUkUDbFY"
      },
      "outputs": [],
      "source": [
        "df = df[['prompt', 'rewrite_prompt']]\n",
        "# Convert the pandas DataFrame to a Hugging Face Dataset\n",
        "dataset = Dataset.from_pandas(df)\n",
        "\n",
        "dataset = dataset.shuffle(seed=1234)\n",
        "\n",
        "# Tokenize the prompts in the dataset.\n",
        "# This example assumes that the model requires only 'input_ids'.\n",
        "# Adjust as necessary for your model, e.g., adding 'attention_mask'.\n",
        "dataset = dataset.map(lambda samples: tokenizer(samples[\"prompt\"]), batched=True)\n",
        "\n",
        "train_test_split = dataset.train_test_split(test_size=0.2)\n",
        "train_data = train_test_split['train']\n",
        "test_data = train_test_split['test']"
      ]
    },
    {
      "cell_type": "markdown",
      "metadata": {
        "id": "WzNQf6lkqo-T"
      },
      "source": [
        "## LoRA  \n",
        "Now low-rank adapter or LoRA is used. As many methods as possible are used as possible to reduce memory usage and allow higher batch sizes and therefore more training with very limited resources like using Colab"
      ]
    },
    {
      "cell_type": "code",
      "execution_count": null,
      "metadata": {
        "id": "NMELsVV6q2my"
      },
      "outputs": [],
      "source": [
        "# Gradient checkpointing helps to reduce memory usage\n",
        "model.gradient_checkpointing_enable()\n",
        "model = prepare_model_for_kbit_training(model)"
      ]
    },
    {
      "cell_type": "code",
      "execution_count": null,
      "metadata": {
        "id": "cm3nXV988zew"
      },
      "outputs": [],
      "source": [
        "print(model)"
      ]
    },
    {
      "cell_type": "markdown",
      "metadata": {
        "id": "TQ4oR_hH9nF5"
      },
      "source": [
        "Explanation from: https://github.com/adithya-s-k/LLM-Alchemy-Chamber/blob/main/LLMs/Mistral-7b/Mistral_Colab_Finetune_ipynb_Colab_Final.ipynb\n",
        "Use the following function to find out the linear layers for fine tuning.\n",
        "QLoRA paper : \"We find that the most critical LoRA hyperparameter is how many LoRA adapters are used in total and that LoRA on all linear transformer block layers is required to match full finetuning performance.\""
      ]
    },
    {
      "cell_type": "code",
      "execution_count": null,
      "metadata": {
        "id": "acCr5AZ0831z"
      },
      "outputs": [],
      "source": [
        "def find_all_linear_names(model):\n",
        "  cls = bnb.nn.Linear4bit #if args.bits == 4 else (bnb.nn.Linear8bitLt if args.bits == 8 else torch.nn.Linear)\n",
        "  lora_module_names = set()\n",
        "  for name, module in model.named_modules():\n",
        "    if isinstance(module, cls):\n",
        "      names = name.split('.')\n",
        "      lora_module_names.add(names[0] if len(names) == 1 else names[-1])\n",
        "    if 'lm_head' in lora_module_names: # needed for 16-bit\n",
        "      lora_module_names.remove('lm_head')\n",
        "  return list(lora_module_names)"
      ]
    },
    {
      "cell_type": "code",
      "execution_count": null,
      "metadata": {
        "id": "DhtO5dMr9Gq3"
      },
      "outputs": [],
      "source": [
        "modules = find_all_linear_names(model)\n",
        "print(modules)"
      ]
    },
    {
      "cell_type": "code",
      "execution_count": null,
      "metadata": {
        "id": "glEtbT3z_hme"
      },
      "outputs": [],
      "source": [
        "lora_config = LoraConfig(\n",
        "    r=8,\n",
        "    lora_alpha=32,\n",
        "    target_modules=modules,\n",
        "    lora_dropout=0.05,\n",
        "    bias='none',\n",
        "    task_type='CAUSAL_LM'\n",
        ")\n",
        "\n",
        "model = get_peft_model(model, lora_config)"
      ]
    },
    {
      "cell_type": "markdown",
      "metadata": {
        "id": "PJxy4y9Owe4z"
      },
      "source": [
        "### Fine-Tuning with qLora and Supervised Fine-Tuning\n",
        "\n",
        " `SFTTrainer` from the `trl` library is used for supervised fine-tuning. This configuration is the best we could find for increasing the batch size. We also are using a checkpoint method to continue training from the last failure/ending."
      ]
    },
    {
      "cell_type": "code",
      "execution_count": null,
      "metadata": {
        "id": "AC4hx6IG3Jye"
      },
      "outputs": [],
      "source": [
        "#change the data type to the most efficient bfloat16\n",
        "model = model.to(device='cuda', dtype=torch.bfloat16)"
      ]
    },
    {
      "cell_type": "code",
      "execution_count": null,
      "metadata": {
        "id": "pQyMqLg5izHF"
      },
      "outputs": [],
      "source": [
        "tokenizer.pad_token = tokenizer.eos_token\n",
        "torch.cuda.empty_cache()\n",
        "# 32 batch size should work with A100 but sometimes can still be too much\n",
        "# With a T4 the best we managed was 8\n",
        "# We also noticed that higher batch sizes allow the training loss to go lower although this didn't seem to \n",
        "# make a big difference in competition score\n",
        "# gradient accumulation is another method used here to reduce memory usage\n",
        "training_args = transformers.TrainingArguments(\n",
        "    per_device_train_batch_size=32,\n",
        "    gradient_accumulation_steps=4,\n",
        "    warmup_steps=0.03,\n",
        "    max_steps=100,\n",
        "    learning_rate=2e-4,\n",
        "    logging_steps=1,\n",
        "    optim='paged_adamw_8bit',\n",
        "    save_strategy='steps',\n",
        "    save_steps=5,\n",
        "    output_dir=CHECKPOINT_PATH,\n",
        ")\n",
        "\n",
        "trainer = SFTTrainer(\n",
        "    model=model,\n",
        "    train_dataset=train_data,\n",
        "    eval_dataset=test_data,\n",
        "    dataset_text_field='prompt',\n",
        "    peft_config=lora_config,\n",
        "    args=training_args,\n",
        "    data_collator=transformers.DataCollatorForLanguageModeling(tokenizer, mlm=False),\n",
        ")\n"
      ]
    },
    {
      "cell_type": "code",
      "execution_count": null,
      "metadata": {
        "id": "OKzE8bDHWsgJ"
      },
      "outputs": [],
      "source": [
        "def find_latest_checkpoint(checkpoint_path):\n",
        "    \"\"\"\n",
        "    Finds the latest (highest-numbered) checkpoint directory.\n",
        "\n",
        "    Parameters:\n",
        "    checkpoint_path (str): The base path where checkpoint directories are stored.\n",
        "\n",
        "    Returns:\n",
        "    str: The path to the latest checkpoint directory, or None if no checkpoint found.\n",
        "    \"\"\"\n",
        "    # Regex to match checkpoint directories like 'checkpoint-500'\n",
        "    checkpoint_pattern = re.compile(r\"^checkpoint-\\d+$\")\n",
        "\n",
        "    # Get all directories in the checkpoint path\n",
        "    all_files = os.listdir(checkpoint_path)\n",
        "\n",
        "    # Filter out checkpoint directories\n",
        "    checkpoint_dirs = [f for f in all_files if checkpoint_pattern.match(f)]\n",
        "\n",
        "    # No checkpoint directories found\n",
        "    if not checkpoint_dirs:\n",
        "        return None\n",
        "\n",
        "    # Find the checkpoint directory with the highest step number\n",
        "    latest_checkpoint_dir = max(checkpoint_dirs, key=lambda x: int(x.split('-')[-1]))\n",
        "\n",
        "    # Return the full path to the latest checkpoint directory\n",
        "    return os.path.join(checkpoint_path, latest_checkpoint_dir)\n"
      ]
    },
    {
      "cell_type": "code",
      "execution_count": null,
      "metadata": {
        "id": "W4HNvrh5FYqM"
      },
      "outputs": [],
      "source": [
        "# Suppress all warnings\n",
        "warnings.filterwarnings('ignore')\n",
        "\n",
        "model.config.use_cache = False\n",
        "\n",
        "# Find the latest checkpoint\n",
        "# Make sure the checkpoint folder exists even if it's empty\n",
        "latest_checkpoint_path = find_latest_checkpoint(CHECKPOINT_PATH)\n",
        "\n",
        "if latest_checkpoint_path and os.path.isdir(latest_checkpoint_path):\n",
        "    print(f\"Resuming training from the latest checkpoint: {latest_checkpoint_path}\")\n",
        "    trainer.train(resume_from_checkpoint=latest_checkpoint_path)\n",
        "else:\n",
        "    print(f\"No checkpoints found in: {CHECKPOINT_PATH}. Training will start from scratch.\")\n",
        "    trainer.train()"
      ]
    },
    {
      "cell_type": "markdown",
      "metadata": {
        "id": "g-TNSuMzCuSc"
      },
      "source": [
        "## Saving and uploading"
      ]
    },
    {
      "cell_type": "code",
      "execution_count": null,
      "metadata": {
        "id": "HysfvJRzCStZ"
      },
      "outputs": [],
      "source": [
        "# Save the model\n",
        "model.save_pretrained(MODEL_PATH)\n",
        "tokenizer.save_pretrained(MODEL_PATH)"
      ]
    },
    {
      "cell_type": "markdown",
      "metadata": {
        "id": "lkEXe_v-jh0l"
      },
      "source": [
        "### Save to Kaggle\n"
      ]
    },
    {
      "cell_type": "code",
      "execution_count": null,
      "metadata": {
        "id": "MmaNNazandWS"
      },
      "outputs": [],
      "source": [
        "# Ensure the directory exists\n",
        "os.makedirs(KAGGLE_DATASET_PATH, exist_ok=True)\n",
        "\n",
        "# Move the model files to the directory\n",
        "!cp \"$MODEL_PATH\"/* \"$KAGGLE_DATASET_PATH\"/\n",
        "!ls $KAGGLE_DATASET_PATH\n"
      ]
    },
    {
      "cell_type": "code",
      "execution_count": null,
      "metadata": {
        "id": "F3oiSpOqrRL1"
      },
      "outputs": [],
      "source": [
        "# Add a metadata file, can change these values\n",
        "metadata = {\n",
        "    'title': KAGGLE_DATASET_NAME,\n",
        "    'id': f\"{KAGGLE_USERNAME}/{KAGGLE_DATASET_NAME}\",\n",
        "    'licenses': [{'name': 'CC0-1.0'}], # ToDo: What license?\n",
        "    'description': 'A Mistral 7B model finetuned to recover Gemma prompts based on the output. This model is trained on Google Colab and is used for our submission to https://www.kaggle.com/competitions/llm-prompt-recovery.',\n",
        "    'subtitle': 'Finetuned Mistral 7B Model',\n",
        "    'keywords': ['LLM', 'Prompt', 'Recovery', 'Mistral', 'Gemma'],\n",
        "    'collaborators': ['Oliver Savolainen', 'Valentina Lilova'],\n",
        "    'resources': [\n",
        "        # {\n",
        "        #     'path': 'file1.csv',\n",
        "        #     'description': 'Description of file1.csv contents.'\n",
        "        # },\n",
        "        # {\n",
        "        #     'path': 'file2.csv',\n",
        "        #     'description': 'Description of file2.csv contents.'\n",
        "        # }\n",
        "    ],\n",
        "}\n",
        "\n",
        "with open(os.path.join(KAGGLE_DATASET_PATH, 'dataset-metadata.json'), 'w') as f:\n",
        "    json.dump(metadata, f)"
      ]
    },
    {
      "cell_type": "code",
      "execution_count": null,
      "metadata": {
        "id": "MO3WDDKtbZ28"
      },
      "outputs": [],
      "source": [
        "# Add the test CSV file\n",
        "# ToDo: Add the real test CSV or remove\n",
        "!cp \"$TEST_FILE_PATH\" \"$KAGGLE_DATASET_PATH\""
      ]
    },
    {
      "cell_type": "code",
      "execution_count": null,
      "metadata": {},
      "outputs": [],
      "source": [
        "# Upload the dataset to Kaggle\n",
        "# Create the first time\n",
        "!kaggle datasets create -p {KAGGLE_DATASET_PATH} --dir-mode zip"
      ]
    },
    {
      "cell_type": "code",
      "execution_count": null,
      "metadata": {
        "id": "HcsKGeTusv5S"
      },
      "outputs": [],
      "source": [
        "# Update an existing dataset\n",
        "#!kaggle datasets version -p {KAGGLE_DATASET_PATH} -m \"Update dataset\""
      ]
    }
  ],
  "metadata": {
    "accelerator": "GPU",
    "colab": {
      "gpuType": "V100",
      "machine_shape": "hm",
      "provenance": []
    },
    "kernelspec": {
      "display_name": "Python 3",
      "name": "python3"
    },
    "language_info": {
      "name": "python"
    }
  },
  "nbformat": 4,
  "nbformat_minor": 0
}
